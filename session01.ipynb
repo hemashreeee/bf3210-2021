{
  "nbformat": 4,
  "nbformat_minor": 0,
  "metadata": {
    "kernelspec": {
      "display_name": "Python 3",
      "language": "python",
      "name": "python3"
    },
    "language_info": {
      "codemirror_mode": {
        "name": "ipython",
        "version": 3
      },
      "file_extension": ".py",
      "mimetype": "text/x-python",
      "name": "python",
      "nbconvert_exporter": "python",
      "pygments_lexer": "ipython3",
      "version": "3.7.0"
    },
    "colab": {
      "name": "session01.ipynb",
      "provenance": [],
      "include_colab_link": true
    }
  },
  "cells": [
    {
      "cell_type": "markdown",
      "metadata": {
        "id": "view-in-github",
        "colab_type": "text"
      },
      "source": [
        "<a href=\"https://colab.research.google.com/github/hemashreeee/bf3210-2021/blob/main/session01.ipynb\" target=\"_parent\"><img src=\"https://colab.research.google.com/assets/colab-badge.svg\" alt=\"Open In Colab\"/></a>"
      ]
    },
    {
      "cell_type": "markdown",
      "metadata": {
        "id": "3VGQG3hczr8N"
      },
      "source": [
        "# 1. Our First Program: Hello World\n",
        "\n",
        "Try the following:\n",
        "- What happens if we change the text to something else?\n",
        "- What happens if we remove the quotation marks?"
      ]
    },
    {
      "cell_type": "code",
      "metadata": {
        "id": "iAF05TK0zr8W"
      },
      "source": [
        "print(\"Hello World!\")\n",
        "print(\"Hello NTU!\")"
      ],
      "execution_count": null,
      "outputs": []
    },
    {
      "cell_type": "markdown",
      "metadata": {
        "id": "QVCBS5-zzr8W"
      },
      "source": [
        "Here, we learn that the program will only accept our code if the message is enclosed in quotation marks. In programming, words inside quotation marks are called strings.\n",
        "\n",
        "Strings are one of several data types that Python recognizes. Some others are integers, floats, and boolean values.\n",
        "\n",
        "# 2. Variables and Data Types\n",
        "\n",
        "Let's stick with strings for now. Try running the following, type a word, and hit enter. What happens? "
      ]
    },
    {
      "cell_type": "code",
      "metadata": {
        "id": "jKCLFMJwzr8X"
      },
      "source": [
        "input(\"What is your name?\")"
      ],
      "execution_count": null,
      "outputs": []
    },
    {
      "cell_type": "markdown",
      "metadata": {
        "id": "gsWy7ZFHzr8X"
      },
      "source": [
        "Now try the following. What happens?"
      ]
    },
    {
      "cell_type": "code",
      "metadata": {
        "id": "leiGYamtzr8X"
      },
      "source": [
        "user_name = input(\"What is your name?\")\n",
        "print(user_name)"
      ],
      "execution_count": null,
      "outputs": []
    },
    {
      "cell_type": "markdown",
      "metadata": {
        "id": "cw83n4c5zr8X"
      },
      "source": [
        "The left side of the equals sign, `user_name`, is a variable. Just like variables used in math, they're abstract representations of some piece of data.\n",
        "\n",
        "The right side of the equals sign, `input`, is a function. A function is like a tool that performs a task. A function can return a value, or it may not. We'll do more with functions later on, and even write our own. But for now, think of them as commands that do useful things for us.\n",
        "\n",
        "When we use an equals sign, we assign a value to a variable.\n",
        "\n",
        "Try the following:\n",
        "- Change the variable `user_name` to something else. Does it matter what we name the variable?\n",
        "- Under the first line, assign the return value of another `input` function with a different message to `user_name`. What is printed at the end?\n",
        "- What exactly does `input` return?\n",
        "\n",
        "The `print` we used earlier is another function. What does it return? The example below replaces `input` with `print`. Try running the code—what happens?\n"
      ]
    },
    {
      "cell_type": "code",
      "metadata": {
        "id": "kIvShdcfzr8Y"
      },
      "source": [
        "user_name = print(\"What is your name?\")\n",
        "print(user_name)"
      ],
      "execution_count": null,
      "outputs": []
    },
    {
      "cell_type": "markdown",
      "metadata": {
        "id": "p-obRSQfzr8Y"
      },
      "source": [
        "The above should print the word `None`. This is a special, standalone datatype in Python that represents, well, nothingness. Because our `print` function doesn't return a value, the data `None` is stored in the variable `user_name`.\n",
        "\n",
        "Speaking of data types, remember it wasn't just strings—there were also integers, floats, and booleans. First, let's look at integers. We can use standard arithmetic on these integers, with some special symbols.\n",
        "\n",
        "Try the following:\n",
        "- What do the `**` and `%` symbols do respectively?\n",
        "- What do we now know about the `print` function? Does it only\n",
        "  accept strings?"
      ]
    },
    {
      "cell_type": "code",
      "metadata": {
        "id": "Y_ii0DZszr8Y"
      },
      "source": [
        "ans1 = 1 + 5\n",
        "ans2 = 2 * 4\n",
        "ans3 = 5 - 3\n",
        "ans4 = 10 ** 4\n",
        "ans5 = 40 % 8\n",
        "ans6 = 40 % 7\n",
        "print(ans1)\n",
        "print(ans2)\n",
        "print(ans3)\n",
        "print(ans4)\n",
        "print(ans5)\n",
        "print(ans6)"
      ],
      "execution_count": null,
      "outputs": []
    },
    {
      "cell_type": "markdown",
      "metadata": {
        "id": "I4krU0z2zr8Y"
      },
      "source": [
        "Now let's look at floats. Floats are what we call decimal values in Python. Try the following:\n",
        "- Does everything produce the expected output?"
      ]
    },
    {
      "cell_type": "code",
      "metadata": {
        "id": "Iu57WHQNzr8Z"
      },
      "source": [
        "ans1 = 3.4 + 2.5\n",
        "ans2 = 1.3 - 0.3\n",
        "ans3 = 2 + 1.3\n",
        "ans4 = 4.5 * 4\n",
        "ans5 = 4 / 3\n",
        "ans6 = 0.1 + 0.2\n",
        "print(ans1)\n",
        "print(ans2)\n",
        "print(ans3)\n",
        "print(ans4)\n",
        "print(ans5)\n",
        "print(ans6)"
      ],
      "execution_count": null,
      "outputs": []
    },
    {
      "cell_type": "markdown",
      "metadata": {
        "id": "38Qt9rJFzr8Z"
      },
      "source": [
        "Finally, we look at booleans. Booleans can only be one of two states: `True`, or `False`. In Python, these should always be capitalized. We also use the logical operators `and`, `or`, and `not`."
      ]
    },
    {
      "cell_type": "code",
      "metadata": {
        "id": "1W9K6IBtzr8Z"
      },
      "source": [
        "ans1 = True\n",
        "ans2 = False\n",
        "print(ans1)\n",
        "print(ans2)\n",
        "print(ans1 and ans1)\n",
        "print(ans1 or ans1)\n",
        "print(ans1 and ans2)\n",
        "print(ans1 or ans2)\n",
        "print(not ans2 and ans2)\n",
        "print(not (ans2 or ans2))"
      ],
      "execution_count": null,
      "outputs": []
    },
    {
      "cell_type": "markdown",
      "metadata": {
        "id": "Zf64MdI-zr8a"
      },
      "source": [
        "We can also compare two pieces of data to see if the comparison is True or False. The symbols are called comparators.\n",
        "\n",
        "Try the following:\n",
        "- What happens when you compare two strings with `>` or `<`?"
      ]
    },
    {
      "cell_type": "code",
      "metadata": {
        "id": "RgAMz_Oozr8a"
      },
      "source": [
        "print(2 == 2)\n",
        "print(2 == 3)\n",
        "print(\"round\" == \"round\")\n",
        "print(\"round\" == \"ground\")\n",
        "print(\"round\" != \"ground\")\n",
        "print(5 > 3)\n",
        "print(5 < 3)\n",
        "print(2 <= 2)\n",
        "print(2 >= 2)"
      ],
      "execution_count": null,
      "outputs": []
    },
    {
      "cell_type": "markdown",
      "metadata": {
        "id": "91hygjiWzr8a"
      },
      "source": [
        "Be careful; a double equals sign means we are comparing two values. A single equals sign means we are assigning data to a variable.\n",
        "\n",
        "Sometimes, we want to change one data type to another. This is called **casting**.\n",
        "- What do you notice about casts from float to int? Is it safe?"
      ]
    },
    {
      "cell_type": "code",
      "metadata": {
        "id": "zqnAScb2zr8a"
      },
      "source": [
        "print(int(\"234\"))\n",
        "print(float(\"52.3\"))\n",
        "print(str(234))\n",
        "print(str(True))\n",
        "print(int(52.3))"
      ],
      "execution_count": null,
      "outputs": []
    },
    {
      "cell_type": "markdown",
      "metadata": {
        "id": "_VYbfeslzr8b"
      },
      "source": [
        "## Exercise 2.1\n",
        "\n",
        "Write a program that asks the user for their age, and then tells them when they will turn 100 years old."
      ]
    },
    {
      "cell_type": "code",
      "metadata": {
        "id": "8s7hqPtAzr8b"
      },
      "source": [
        "# Solution to Exercise 2.1\n"
      ],
      "execution_count": null,
      "outputs": []
    },
    {
      "cell_type": "markdown",
      "metadata": {
        "id": "Cn3Op6dRzr8b"
      },
      "source": [
        "# 3. Coding Practices\n",
        "\n",
        "A note on conventions:\n",
        "Before, we found that we can name our variables anything. This isn't exactly true. Make sure your variable names adhere to these rules and conventions for consistency:\n",
        "- Cannot be or start with a number.\n",
        "- Cannot contain symbols (`%#!@*`).\n",
        "- All letters should be lowercase.\n",
        "- Words should be separated by an underscore (`_`).\n",
        "- Names already reserved for existing syntax (e.g. `int`, `print`, `str`) should be avoided.\n",
        "\n",
        "Try the following:\n",
        "- What makes a good variable name? What is the danger of it being too specific? Too vague? Too long? Too short?\n",
        "\n",
        "You may have noticed that some of our code contains lines that start with or contain the pound symbol (`#`). This denotes a comment; Python will ignore everything on that line following the symbol. To write a multi-line comment, use three quotation marks.\n",
        "\n",
        "Code comments make your code readable to others, and to yourself when you look back at it later."
      ]
    },
    {
      "cell_type": "code",
      "metadata": {
        "id": "L7gKR11Jzr8b"
      },
      "source": [
        "# A single-line comment\n",
        "\n",
        "print(\"Python will only look at this line.\")\n",
        "\n",
        "\"\"\"\n",
        "A multi-\n",
        "line comment\n",
        "\"\"\""
      ],
      "execution_count": null,
      "outputs": []
    },
    {
      "cell_type": "markdown",
      "metadata": {
        "id": "5l9wsql2zr8b"
      },
      "source": [
        "# 4. String Concatenation and Formatting\n",
        "\n",
        "Back to strings. We can combine them like so.\n",
        "\n",
        "Try the following:\n",
        "- What does the `+=` symbol do? What do you think `-=` would do?"
      ]
    },
    {
      "cell_type": "code",
      "metadata": {
        "id": "wYb9mAh9zr8c"
      },
      "source": [
        "print(\"Hello darkness \" + \"my old friend...\")\n",
        "lyric2 = \"I've come to talk \"\n",
        "lyric2 += \"with you again\"\n",
        "print(lyric2)"
      ],
      "execution_count": null,
      "outputs": []
    },
    {
      "cell_type": "markdown",
      "metadata": {
        "id": "GrLSNJifzr8c"
      },
      "source": [
        "We can also intersperse data between our strings using formatters.\n",
        "\n",
        "Try the following:\n",
        "- The `format` command is another function. (Remember, tool that does stuff.) Why is it attached to the string with a dot? How is it different from `print` or `input`?"
      ]
    },
    {
      "cell_type": "code",
      "metadata": {
        "id": "u0RqZ8TFzr8c"
      },
      "source": [
        "name = \"Jane\"\n",
        "age = 40\n",
        "occupation = \"doctor\"\n",
        "is_a_student = False\n",
        "biography = \"{} is a {}-year-old {} whose student status is {}\".format(name, age, occupation, is_a_student)\n",
        "print(biography)"
      ],
      "execution_count": null,
      "outputs": []
    },
    {
      "cell_type": "markdown",
      "metadata": {
        "id": "0rep2YWEzr8c"
      },
      "source": [
        "## Exercise 4.1\n",
        "\n",
        "Write a program that takes a restaurant order from the user via the `input` function. Try to ask at least 6 questions, and make your interactions complex by asking for topping and sauce choices. Make the program repeat your order to you at the end."
      ]
    },
    {
      "cell_type": "code",
      "metadata": {
        "id": "klM_2M_6zr8c"
      },
      "source": [
        "# Solution to Exercise 4.1\n"
      ],
      "execution_count": null,
      "outputs": []
    },
    {
      "cell_type": "markdown",
      "metadata": {
        "id": "0TSCtFTZzr8c"
      },
      "source": [
        "# 5. Conditionals\n",
        "\n",
        "First, here is a program that asks the user for their name, and greets them with their name."
      ]
    },
    {
      "cell_type": "code",
      "metadata": {
        "id": "CFdhMYLuzr8d"
      },
      "source": [
        "user_name = input(\"What is your name?\")\n",
        "greeting = \"Hello there, {}! Nice to meet you.\".format(user_name)\n",
        "print(greeting)\n",
        "\n",
        "# We can actually put the last two lines together. Do you see why?\n",
        "# print('Hello there, {}! Nice to meet you.'.format(user_name))"
      ],
      "execution_count": null,
      "outputs": []
    },
    {
      "cell_type": "markdown",
      "metadata": {
        "id": "9iF6vQsfzr8d"
      },
      "source": [
        "Let's say this was a roller-coaster ride admission program. We want to accept entry if their height is over 140cm."
      ]
    },
    {
      "cell_type": "code",
      "metadata": {
        "id": "cDjLz1aazr8d"
      },
      "source": [
        "user_name = input(\"What is your name?\")\n",
        "greeting = \"Hello there, {}! Nice to meet you.\".format(user_name)\n",
        "print(greeting)\n",
        "user_height = input(\"What is your height?\")\n",
        "\n",
        "if int(user_height) >= 140:\n",
        "    print(\"You may ride the roller-coaster.\")\n",
        "else:\n",
        "    print(\"You're too short to ride the roller-coaster.\")"
      ],
      "execution_count": null,
      "outputs": []
    },
    {
      "cell_type": "markdown",
      "metadata": {
        "id": "q1h1ycTtzr8d"
      },
      "source": [
        "The syntax is...\n",
        "\n",
        "```\n",
        "if <SOME CONDITION>:\n",
        "    <DO SOMETHING>\n",
        "else:\n",
        "    <DO SOMETHING ELSE>\n",
        "```\n",
        "\n",
        "The condition can use any of the comparators we learned about previously.\n",
        "\n",
        "What if the ride is somewhat culturally aware, and can greet people depending on their nationality? To account for multiple cases, you can use the `elif` syntax.\n",
        "\n",
        "Try the following:\n",
        "- What happens if you replace the elif's with if's? Why?"
      ]
    },
    {
      "cell_type": "code",
      "metadata": {
        "id": "6_E3NxkGzr8d"
      },
      "source": [
        "nationality = input(\"What is your nationality?\")\n",
        "\n",
        "if nationality == \"American\":\n",
        "\tprint(\"Hello!\")\n",
        "elif nationality == \"French\":\n",
        "\tprint(\"Bonjour!\")\n",
        "elif nationality == \"Spanish\":\n",
        "\tprint(\"Hola!\")\n",
        "else:\n",
        "\tprint(\"Hi there!\")"
      ],
      "execution_count": null,
      "outputs": []
    },
    {
      "cell_type": "markdown",
      "metadata": {
        "id": "8DgasF_uzr8d"
      },
      "source": [
        "You can even put a conditional inside another one. This is known as **nesting**."
      ]
    },
    {
      "cell_type": "code",
      "metadata": {
        "id": "SKDTbB0Yzr8e"
      },
      "source": [
        "quiz_question = \"What is the meaning of life?\"\n",
        "correct_answer = 42\n",
        "reward_question = \"As a reward, I would like a... (pick one: car, vacation, pat on the back)\"\n",
        "\n",
        "answer_choice = input(quiz_question)\n",
        "if int(answer_choice) != correct_answer:\n",
        "\tprint(\"Uh oh! That's not right.\")\n",
        "else:\n",
        "\treward_choice = input(reward_question)\n",
        "\tif reward_choice == \"car\":\n",
        "\t\tprint(\"You win a Volkswagen Beetle!\")\n",
        "\telif reward_choice == \"vacation\":\n",
        "\t\tprint(\"You win a trip to Hawaii!\")\n",
        "\telif reward_choice == \"pat on the back\":\n",
        "\t\tprint(\"Way to stay humble. Here's your pat on the back.\")"
      ],
      "execution_count": null,
      "outputs": []
    },
    {
      "cell_type": "markdown",
      "metadata": {
        "id": "nGhxkVZ1zr8e"
      },
      "source": [
        "## Exercise 5.1\n",
        "\n",
        "Write a program that asks the user for a number, and tells them if it is odd or even. "
      ]
    },
    {
      "cell_type": "code",
      "metadata": {
        "id": "OEA_kpYnzr8e"
      },
      "source": [
        "# Solution to Exercise 5.1\n"
      ],
      "execution_count": null,
      "outputs": []
    },
    {
      "cell_type": "markdown",
      "metadata": {
        "id": "6w-3KCu1zr8e"
      },
      "source": [
        "## Exercise 5.2\n",
        "\n",
        "Write a program that asks the user for three numbers, and tells them the largest of the three."
      ]
    },
    {
      "cell_type": "code",
      "metadata": {
        "id": "3q47JjQpzr8e"
      },
      "source": [
        "# Solution to Exercise 5.2\n"
      ],
      "execution_count": null,
      "outputs": []
    },
    {
      "cell_type": "markdown",
      "metadata": {
        "id": "6Xv2ZKvYzr8e"
      },
      "source": [
        "# 6. Debugging Errors\n",
        "\n",
        "You will 100% encounter an error at some point in this course, if you haven't already. Debugging is the process of resolving these errors.\n",
        "\n",
        "When debugging a piece of code, remember to always check the error type and line number. If there are multiple lines, check the bottom- most one in the message.\n",
        "\n",
        "Python has rules (i.e. syntax). If you don't follow these rules, you get a SyntaxError. This is the easiest type to debug. It could be anything from a missing colon, quotation mark, or indent."
      ]
    },
    {
      "cell_type": "code",
      "metadata": {
        "id": "rchKHecdzr8f"
      },
      "source": [
        "nationality = \"American\"\n",
        "if nationality == \"American\":\n",
        "\tprint(\"Hello!\")"
      ],
      "execution_count": null,
      "outputs": []
    },
    {
      "cell_type": "markdown",
      "metadata": {
        "id": "EJnlCiYxzr8f"
      },
      "source": [
        "Other errors occur even when your syntax is perfect. A NameError occurs when you try to use a variable or function you haven't defined yet. A TypeError occurs when you try to use the wrong data type for an operation.\n",
        "\n",
        "Try the following:\n",
        "- What happens if you try to divide an integer by zero?"
      ]
    },
    {
      "cell_type": "code",
      "metadata": {
        "id": "heGxo4U2zr8f"
      },
      "source": [
        "greeting = \"Hello, {}\".format(person_name)"
      ],
      "execution_count": null,
      "outputs": []
    },
    {
      "cell_type": "code",
      "metadata": {
        "id": "uRvgODG7zr8f"
      },
      "source": [
        "answer = \"2\" + 4"
      ],
      "execution_count": null,
      "outputs": []
    },
    {
      "cell_type": "markdown",
      "metadata": {
        "id": "R1suyAEizr8f"
      },
      "source": [
        "# 7. While Loops\n",
        "\n",
        "Sometimes, we want to perform an action repeatedly until a condition is\n",
        "satisfied. This is when we use a while loop. The syntax is similar to that\n",
        "of a conditional:\n",
        "\n",
        "```\n",
        "while <CONDITION IS TRUE>:\n",
        "    <DO SOMETHING>\n",
        "```\n",
        "\n",
        "Suppose we don't want the user to proceed until they type the correct answer. That would look like this:"
      ]
    },
    {
      "cell_type": "code",
      "metadata": {
        "id": "B6M_QaZWzr8f"
      },
      "source": [
        "correct_answer = 42\n",
        "question = \"What is the meaning of life?\"\n",
        "\n",
        "user_guess = input(question)\n",
        "while int(user_guess) != correct_answer:\n",
        "\tprint(\"You shall not pass!\")\n",
        "\tuser_guess = input(question)\n",
        "\n",
        "print(\"Congratulations! You answered the question correctly.\")"
      ],
      "execution_count": null,
      "outputs": []
    },
    {
      "cell_type": "markdown",
      "metadata": {
        "id": "H5eqyj1lzr8g"
      },
      "source": [
        "While loops can be dangerous if they don't terminate. In your code, make\n",
        "sure your condition becomes false at some point."
      ]
    },
    {
      "cell_type": "markdown",
      "metadata": {
        "id": "At3-AzX-zr8g"
      },
      "source": [
        "## Exercise 7.1\n",
        "\n",
        "Write a program that asks the user to respond. If they respond with \"Y\", \"y\", \"yes\", or \"YES\", the program should print \"The user entered yes\". If they respond with \"N\", \"n\", \"no\", or \"NO\", it should print \"The user entered no\". Otherwise, the program should keep on asking."
      ]
    },
    {
      "cell_type": "code",
      "metadata": {
        "id": "yqU6uQlOzr8g"
      },
      "source": [
        "# Solution to Exercise 7.1\n"
      ],
      "execution_count": null,
      "outputs": []
    },
    {
      "cell_type": "markdown",
      "metadata": {
        "id": "reRD5S2hzr8g"
      },
      "source": [
        "## Exercise 7.2\n",
        "\n",
        "Modify Exercise 7.1 to keep track of the number of attempts it took to get a valid response, and print that number."
      ]
    },
    {
      "cell_type": "code",
      "metadata": {
        "id": "OVRL8eEYzr8g"
      },
      "source": [
        "# Solution to Exercise 7.2\n"
      ],
      "execution_count": null,
      "outputs": []
    },
    {
      "cell_type": "markdown",
      "metadata": {
        "id": "C4R6793Ezr8g"
      },
      "source": [
        "## Exercise 7.3\n",
        "\n",
        "Write a program that accepts a number from the user's input, and calculates the factorial of that number."
      ]
    },
    {
      "cell_type": "code",
      "metadata": {
        "id": "C6k5hNVyzr8g"
      },
      "source": [
        "# Solution to Exercise 7.3\n"
      ],
      "execution_count": null,
      "outputs": []
    },
    {
      "cell_type": "markdown",
      "metadata": {
        "id": "YoNhpsKvzr8h"
      },
      "source": [
        "# Interlude\n",
        "\n",
        "From here, we will be covering the most important parts of learning enough of the Python language for us to start building a user interface. But we will leave things out, in the interest of time. To assist you in your exercises, problem sets, and project, please use the official Python documentation if you are unsure about a concept, or would like to know more in depth.\n",
        "\n",
        "https://docs.python.org/3/\n"
      ]
    },
    {
      "cell_type": "markdown",
      "metadata": {
        "id": "LhWhXP7qzr8h"
      },
      "source": [
        "# 8. Lists\n",
        "\n",
        "Lists allow us to store multiple pieces of data in one container.\n",
        "\n",
        "An item in a list is called an **element**. We call the position of an element in a list its **index** (plural: indices).\n",
        "\n",
        "Things to note:\n",
        "- List indices start counting from zero.\n",
        "- One list can contain items of different data types\n",
        "- Lists can be empty\n",
        "\n",
        "Try the following:\n",
        "- What happens when you access index 0 of `empty_list`?"
      ]
    },
    {
      "cell_type": "code",
      "metadata": {
        "id": "a_f9yolyzr8h"
      },
      "source": [
        "name_list = [\"Jane\", \"Joe\", \"Jenn\", \"Jack\"]\n",
        "print(len(name_list))\n",
        "print(name_list[0])\n",
        "print(name_list[1:3])\n",
        "print(name_list[2:])\n",
        "print(name_list[:2])\n",
        "print(name_list[-1])\n",
        "\n",
        "misc_list = [123, \"abc\", True, False]\n",
        "empty_list = []"
      ],
      "execution_count": null,
      "outputs": []
    },
    {
      "cell_type": "markdown",
      "metadata": {
        "id": "ecdtZLhKzr8h"
      },
      "source": [
        "Strings actually operate very much like lists, if you think of every character in the string as an item in the list. We call a subset of a given string a substring."
      ]
    },
    {
      "cell_type": "code",
      "metadata": {
        "id": "J2Q5v6u9zr8h"
      },
      "source": [
        "name = \"Singapore\"\n",
        "print(len(name))\n",
        "print(name[0])\n",
        "print(name[1:3])\n",
        "print(name[2:])\n",
        "print(name[:2])\n",
        "print(name[-1])"
      ],
      "execution_count": null,
      "outputs": []
    },
    {
      "cell_type": "markdown",
      "metadata": {
        "id": "MFKyK_j0zr8h"
      },
      "source": [
        "Back to lists. We can perform operations on lists, like adding, editing, and removing items. Details can be found in the [docs](https://docs.python.org/3/tutorial/datastructures.html#more-on-lists)."
      ]
    },
    {
      "cell_type": "code",
      "metadata": {
        "id": "riY2Sp3Zzr8i"
      },
      "source": [
        "name_list = [\"Jane\", \"Joe\", \"Jenn\", \"Jack\"]  # create a new list\n",
        "\n",
        "print(\"Jenn\" in name_list) # check whether \"Jenn\" is in the list\n",
        "print(\"John\" in name_list) # check whether \"John\" is in the list\n",
        "\n",
        "name_list.append(\"Jessica\")  # add a new item to the end of the list\n",
        "name_list.insert(2, \"Jacob\")  # insert a new item at given index\n",
        "name_list.index(\"Jenn\")  # return the index value of an item in the list\n",
        "name_list.remove(\"Jack\")  # remove an item from the list\n",
        "name_list.sort()  # sort the list\n",
        "name_list.reverse()  # reverse the list\n",
        "name_list.pop(4)  # remove and return the item at the given index\n",
        "\n",
        "# For lists of numbers\n",
        "number_list = [5, 6, 12, 4, 2]\n",
        "sum(number_list) # sums all numbers in the list\n",
        "max(number_list) # find the maximum\n",
        "min(number_list) # find the minimum"
      ],
      "execution_count": null,
      "outputs": []
    },
    {
      "cell_type": "markdown",
      "metadata": {
        "id": "u1F0w1t-zr8i"
      },
      "source": [
        "Because of the somewhat close relationship between lists and strings, here are two functions that help the two types interact, `join` and `split`."
      ]
    },
    {
      "cell_type": "code",
      "metadata": {
        "id": "KdoRjrAuzr8i"
      },
      "source": [
        "# From list to string\n",
        "name_list = [\"Jane\", \"Joe\", \"Jenn\", \"Jack\"]  # create a new list\n",
        "name_str = \",\".join(name_list) # combines all elements of the list into a single string, with the specified separator\n",
        "print(name_str)\n",
        "\n",
        "# From string to list\n",
        "name_str = \"Jane and Joe and Jenn and Jack\"\n",
        "name_list = name_str.split(\" and \")\n",
        "for name in name_list:\n",
        "    print(name)\n"
      ],
      "execution_count": null,
      "outputs": []
    },
    {
      "cell_type": "markdown",
      "metadata": {
        "id": "JEUvh3h4zr8i"
      },
      "source": [
        "You can even have a list within a list. This means that the elements in your outer list are lists themselves.\n",
        "\n",
        "This might seem, strange, but nested data structures are very useful. For example, we can use them to represent rows and columns of a 2-D board!"
      ]
    },
    {
      "cell_type": "code",
      "metadata": {
        "id": "hz3627sgzr8i"
      },
      "source": [
        "list_of_lists = [[\"a\", \"b\", \"c\", \"d\"], [\"e\", \"f\", \"g\", \"h\"], [\"i\", \"j\", \"k\"]]\n",
        "\n",
        "\"\"\"\n",
        "Visually, you can think of this as:\n",
        "\n",
        "    0  1  2  3\n",
        "   ____________\n",
        "0 | a  b  c  d\n",
        "1 | e  f  g  h\n",
        "2 | i  j  k\n",
        "\n",
        "\"\"\"\n",
        "\n",
        "print(list_of_lists[0][1])\n",
        "print(list_of_lists[1][2])"
      ],
      "execution_count": null,
      "outputs": []
    },
    {
      "cell_type": "markdown",
      "metadata": {
        "id": "ERW78S-4zr8i"
      },
      "source": [
        "## Exercise 8.1\n",
        "\n",
        "Suppose you are given the list of names we've been using in our examples. Write a program that repeatedly asks the user to type in a name.\n",
        "- If the name already exists in the list, notify the user \"Name already exists\".\n",
        "- If the list does not contain the name, add the name and notify the user \"Name added to list\".\n",
        "- In both cases, sort and print the updated list of names in alphabetical order.\n",
        "- End the program if the user types \"quit\"."
      ]
    },
    {
      "cell_type": "code",
      "metadata": {
        "id": "UMQOeHuFzr8j"
      },
      "source": [
        "# Solution to Exercise 8.1\n",
        "name_list = [\"Jane\", \"Joe\", \"Jenn\", \"Jack\"]\n"
      ],
      "execution_count": null,
      "outputs": []
    },
    {
      "cell_type": "markdown",
      "metadata": {
        "id": "ZMuatvYVzr8j"
      },
      "source": [
        "# 9. For loops\n",
        "\n",
        "While loops allow us to repeat an action **while it satisfies a condition**. What if we want to repeat an action **for every element in a list**? For that, we use a for loop. The syntax looks like this:\n",
        "\n",
        "```\n",
        "    for <ELEMENT> in <LIST>:\n",
        "        <DO SOMETHING>\n",
        "```\n",
        "\n",
        "Again, be careful of the colon and the indentation. Below is a more concrete example.\n",
        "\n",
        "Try the following:\n",
        "- Does it matter what the variable `person_name` is called?\n",
        "- Can you access the variable `person_name` outside of the for loop?"
      ]
    },
    {
      "cell_type": "code",
      "metadata": {
        "id": "lKKS0XFTzr8j"
      },
      "source": [
        "name_list = [\"Jane\", \"Jack\", \"Jenn\", \"Joe\"]\n",
        "\n",
        "for person_name in name_list:\n",
        "    print(\"My name is \" + person_name)"
      ],
      "execution_count": null,
      "outputs": []
    },
    {
      "cell_type": "markdown",
      "metadata": {
        "id": "psywNWeHzr8j"
      },
      "source": [
        "Some terminology and syntax here:\n",
        "- Every \"loop\" cycle is called an **iteration** of the loop.\n",
        "- You can skip to the next iteration by writing `continue`\n",
        "- You can exit a loop completely by writing `break`\n",
        "\n",
        "Note that these apply to both for and while loops."
      ]
    },
    {
      "cell_type": "code",
      "metadata": {
        "id": "twxCMjGzzr8j"
      },
      "source": [
        "name_list = [\"Jane\", \"Jack\", \"Jenn\", \"Joe\", \"Jessica\", \"Jacob\"]\n",
        "\n",
        "for person_name in name_list:\n",
        "    if person_name == \"Jenn\":\n",
        "        continue\n",
        "    print(person_name)\n",
        "    if person_name == \"Jessica\":\n",
        "        break"
      ],
      "execution_count": null,
      "outputs": []
    },
    {
      "cell_type": "markdown",
      "metadata": {
        "id": "l7axrJXBzr8j"
      },
      "source": [
        "Often, you don't want to iterate on a particular list, and instead want to perform an action `N` times. In Session 01, we achieved this using a while loop, and incrementing a variable to keep track. An easier approach is to use a for loop.\n",
        "\n",
        "Here, we introduce the **`range`** function. Remember again, a function is a tool that does something. The `input` function gives us the value of some user's inputted text. The `range` function gives us a list of integers.\n",
        "\n",
        "Try the following:\n",
        "- Replace `range(3)` with some variants, and observe the output:\n",
        "  - `range(6)`\n",
        "  - `range(2, 7)`\n",
        "  - `range(4, 20, 5)`\n",
        "  - `range(7, 2, -1)`"
      ]
    },
    {
      "cell_type": "code",
      "metadata": {
        "id": "YDZLGy2Kzr8k"
      },
      "source": [
        "for element in range(3):\n",
        "    print(element)"
      ],
      "execution_count": null,
      "outputs": []
    },
    {
      "cell_type": "markdown",
      "metadata": {
        "id": "DZTJVL6Wzr8k"
      },
      "source": [
        "You can even nest your for loops, like you did with while loops. Why is this useful? You can iterate through multiple dimensions!"
      ]
    },
    {
      "cell_type": "code",
      "metadata": {
        "id": "_O8xvUC4zr8k"
      },
      "source": [
        "first_names = [\"Jane\", \"Jack\", \"Jenn\", \"Joe\"]\n",
        "last_names = [\"Jackson\", \"Johnson\", \"Jacobson\", \"Jefferson\"]\n",
        "\n",
        "for first_name in first_names:\n",
        "    for last_name in last_names:\n",
        "        print(first_name, last_name)"
      ],
      "execution_count": null,
      "outputs": []
    },
    {
      "cell_type": "markdown",
      "metadata": {
        "collapsed": true,
        "id": "h89fhuUtzr8k"
      },
      "source": [
        "## Exercise 9.1\n",
        "\n",
        "Write a program that finds and prints the maximum value of a list of integers, without using any built-in functions."
      ]
    },
    {
      "cell_type": "code",
      "metadata": {
        "id": "hsSfHRWAzr8k"
      },
      "source": [
        "# Solution to Exercise 9.1\n",
        "nums = [5,4,1,7,2,6,3]\n"
      ],
      "execution_count": null,
      "outputs": []
    },
    {
      "cell_type": "markdown",
      "metadata": {
        "id": "ySP2VA9zzr8k"
      },
      "source": [
        "## Exercise 9.2\n",
        "\n",
        "Write a program that computes and prints the mean of a list of integers, without using any built-in functions."
      ]
    },
    {
      "cell_type": "code",
      "metadata": {
        "id": "Vft-9KGrzr8l"
      },
      "source": [
        "# Solution to Exercise 9.2\n",
        "nums = [5,4,1,7,2,6,3]\n"
      ],
      "execution_count": null,
      "outputs": []
    },
    {
      "cell_type": "markdown",
      "metadata": {
        "id": "4BuvQbrYzr8l"
      },
      "source": [
        "## Exercise 9.3\n",
        "\n",
        "Write a program that asks the user for a single English word. Then, print out the word with the characters reversed. Do not use any built-in functions except for `range`. Remember, strings work similarly to lists."
      ]
    },
    {
      "cell_type": "code",
      "metadata": {
        "id": "8mF0bTHLzr8l"
      },
      "source": [
        "# Solution to Exercise 9.3\n"
      ],
      "execution_count": null,
      "outputs": []
    },
    {
      "cell_type": "markdown",
      "metadata": {
        "id": "bfeJMDI-zr8l"
      },
      "source": [
        "## Exercise 9.4\n",
        "\n",
        "Write a program that asks the user for a sentence with multiple words. Then, print out the sentence with the word order preserved but letter order reversed. Do not use any built-in functions except for `range`, `split`, and `join`."
      ]
    },
    {
      "cell_type": "code",
      "metadata": {
        "id": "9KLckLsAzr8l"
      },
      "source": [
        "# Solution to Exercise 9.4\n"
      ],
      "execution_count": null,
      "outputs": []
    },
    {
      "cell_type": "markdown",
      "metadata": {
        "id": "psFOiZWwzr8l"
      },
      "source": [
        "## Exercise 9.5\n",
        "\n",
        "Write a program that calculates the sums of each inner list in a nested list. For example, given the list\n",
        "```\n",
        "[[5, 2, 10], [4, 3, 5], [12, 1, 0]]\n",
        "```\n",
        "the program should produce the list\n",
        "```\n",
        "[17, 12, 13]\n",
        "```"
      ]
    },
    {
      "cell_type": "code",
      "metadata": {
        "id": "uTp_E0oTzr8m"
      },
      "source": [
        "# Solution to Exercise 9.5\n",
        "example = [[5, 2, 10], [4, 3, 5], [12, 1, 0]]\n"
      ],
      "execution_count": null,
      "outputs": []
    },
    {
      "cell_type": "markdown",
      "metadata": {
        "id": "6630XG37zr8m"
      },
      "source": [
        "# 10. Functions and Modules\n",
        "\n",
        "Our working definition of a **function** has been that it is a tool that can perform certain operations. Now, we will learn more about using functions that other people have created, and writing our own functions.\n",
        "\n",
        "In short, we can do two things with functions: **call** them, and **define** them.\n",
        "\n",
        "## Calling Functions\n",
        "\n",
        "Using a function is often referred to as **calling** the function.\n",
        "\n",
        "A function:\n",
        "- *MUST* perform some action.\n",
        "- *CAN* have one or more inputs, that it will use while performing the action.\n",
        "- *CAN* have one or more outputs, that is the result of performing the action.\n",
        "\n",
        "Let's look more closely at some functions we've already covered.\n",
        "\n",
        "1. `print`\n",
        "    - Action: Prints some data on the screen.\n",
        "    - Inputs: The data to be printed\n",
        "    - Outputs: None\n",
        "\n",
        "2. `input`\n",
        "    - Action: Prints a prompt to the screen, and accepts some textual input from the user.\n",
        "    - Inputs: The prompt text (string)\n",
        "    - Outputs: The user's input (string)\n",
        "\n",
        "3. `<List>.insert`\n",
        "    - Action: Inserts an element into a list at the given index position.\n",
        "    - Inputs: The index position and the element to insert\n",
        "    - Outputs: None\n",
        "\n",
        "In programming, the inputs are called **parameters** or **arguments**. The outputs are called **return values**.\n",
        "\n",
        "Some functions accept multiple data types for their arguments, while others don't. Always check the documentation for reference.\n",
        "\n",
        "For the functions that do return a value, we can capture their output by assigning it to a variable. That is what we've been doing with our `input` function.\n",
        "\n",
        "```\n",
        "user_name = input(\"What is your name?\")\n",
        "```\n",
        "\n",
        "## Defining Functions\n",
        "\n",
        "We can also write our own functions.\n",
        "\n",
        "The syntax is:\n",
        "\n",
        "```\n",
        "    def <FUNCTION NAME>(<PARAM1>, <PARAM2>...):\n",
        "        <DO SOMETHING>\n",
        "        \n",
        "        return <RETURN VALUE>\n",
        "```\n",
        "\n",
        "Pay careful attention to the location of the parentheses, commas, colon, and indentation.\n",
        "\n",
        "The last line is optional. A function will stop operating when it reaches a `return` command. If the `return` command is not followed by a value, the function returns `None`.\n",
        "\n",
        "**Even if you define a function, nothing will happen unless you call it!**\n",
        "\n",
        "Here are a few examples.\n",
        "\n",
        "Try the following:\n",
        "- Does the order of the parameters matter?\n",
        "- Does it matter what you name the function? What are the rules and conventions for naming functions?\n",
        "- Does it matter what you name the parameters?\n",
        "- What happens if you only give the third function a value for `name` but not `age`?"
      ]
    },
    {
      "cell_type": "code",
      "metadata": {
        "id": "cJlWkBySzr8m"
      },
      "source": [
        "# A function with no input and no output\n",
        "def wish_happy_birthday():\n",
        "    print(\"Happy birthday to you!\")\n",
        "    print(\"Have a great day!\")\n",
        "wish_happy_birthday()\n",
        "\n",
        "# A function with one input and no output\n",
        "def wish_happy_birthday_with_name(name):\n",
        "    print(\"Happy birthday, {}!\".format(name))\n",
        "    print(\"Have a great day!\")\n",
        "wish_happy_birthday_with_name(\"Alice\")\n",
        "\n",
        "# A function with multiple inputs and no output\n",
        "def greeting_with_name_and_holiday(name, holiday):\n",
        "    print(\"Happy {}, {}!\".format(holiday, name))\n",
        "greeting_with_name_and_holiday(\"Alice\", \"National Day\")\n",
        "\n",
        "# A function with multiple inputs and one output\n",
        "def average(num1, num2):\n",
        "    avg = (num1 + num2) / 2\n",
        "    return avg\n",
        "avg_of_2_and_12 = average(2, 12)\n",
        "print(avg_of_2_and_12)\n"
      ],
      "execution_count": null,
      "outputs": []
    },
    {
      "cell_type": "markdown",
      "metadata": {
        "id": "sIbOqF6mzr8m"
      },
      "source": [
        "Notice that the first three functions grow increasingly more **abstract**. With `greeting_with_name_and_holiday`, we can greet any person, for any holiday occasion. For example,\n",
        "\n",
        "```\n",
        "greeting_with_name_and_holiday(\"Alice\", \"National Day\")\n",
        "greeting_with_name_and_holiday(\"Bob\", \"Chinese New Year\")\n",
        "greeting_with_name_and_holiday(\"Clara\", \"Hari Raya\")\n",
        "greeting_with_name_and_holiday(\"Dan\", \"Deepavali\")\n",
        "```\n",
        "\n",
        "This is the greatest advantage to using functions. It makes our code **flexible** and **repeatable**, even when our programs become more complex."
      ]
    },
    {
      "cell_type": "markdown",
      "metadata": {
        "id": "hSKMzG7Yzr8m"
      },
      "source": [
        "## Exercise 10.1\n",
        "\n",
        "Write two functions, `find_maximum` and `find_mean` that both take a list of integers as an argument. They should return the maximum and mean of the provided list, respectively. You are encouraged to reuse/adapt your code from Exercises 9.1 and 9.2."
      ]
    },
    {
      "cell_type": "code",
      "metadata": {
        "id": "AuTdkVUyzr8m"
      },
      "source": [
        "# Solution to Exercise 10.1\n"
      ],
      "execution_count": null,
      "outputs": []
    },
    {
      "cell_type": "markdown",
      "metadata": {
        "id": "QQF4POwpzr8n"
      },
      "source": [
        "## Exercise 10.2\n",
        "\n",
        "Write a function that takes one integer, and returns `True` if it is prime, and `False` otherwise."
      ]
    },
    {
      "cell_type": "code",
      "metadata": {
        "id": "F0_vz6ZWzr8n"
      },
      "source": [
        "# Solution to Exercise 10.2\n"
      ],
      "execution_count": null,
      "outputs": []
    },
    {
      "cell_type": "markdown",
      "metadata": {
        "id": "m-5If5E9zr8n"
      },
      "source": [
        "## Exercise 10.3\n",
        "\n",
        "Write a function that checks whether a number is in a given range. How many parameters do you need?"
      ]
    },
    {
      "cell_type": "code",
      "metadata": {
        "id": "9zkrD4fizr8n"
      },
      "source": [
        "# Solution to Exercise 10.3\n"
      ],
      "execution_count": null,
      "outputs": []
    },
    {
      "cell_type": "markdown",
      "metadata": {
        "id": "5LEtODX9zr8n"
      },
      "source": [
        "## Exercise 10.4\n",
        "\n",
        "A pangram is a sentence that contains every word of the alphabet at least once. For example, the sentence \"A quick brown fox jumps over the lazy dog\" is a pangram. Write a function that takes a sentence as an argument, and returns `True` if it is a pangram, and `False` otherwise."
      ]
    },
    {
      "cell_type": "code",
      "metadata": {
        "id": "fg2qYwP8zr8n"
      },
      "source": [
        "# Solution to Exercise 10.4\n"
      ],
      "execution_count": null,
      "outputs": []
    },
    {
      "cell_type": "markdown",
      "metadata": {
        "id": "PgVaobICzr8o"
      },
      "source": [
        "# 11. Tuples and Dictionaries\n",
        "\n",
        "Other than lists, Python has some additional ways of storing multiple pieces of data.\n",
        "\n",
        "## Tuples\n",
        "\n",
        "Tuples store a sequence of data, just like lists. They can also be accessed like lists. The difference is that lists are *mutable*, meaning the elements it stores can be changed, while tuples are *immutable*, meaning they cannot be changed.\n",
        "\n",
        "Tuples use parentheses instead of square brackets.\n",
        "\n",
        "Check out the [docs](https://docs.python.org/3/tutorial/datastructures.html#tuples-and-sequences) for more information."
      ]
    },
    {
      "cell_type": "code",
      "metadata": {
        "id": "q8Z3hhQ6zr8o"
      },
      "source": [
        "tuple1 = (\"a\", \"b\", \"c\", \"d\") # creating a tuple\n",
        "print(tuple1[2]) # accessing an element in the tuple\n",
        "tuple2 = tuple1 + (\"e\", \"f\") # concatenating tuples\n",
        "del tuple1 # deleting the content of a tuple"
      ],
      "execution_count": null,
      "outputs": []
    },
    {
      "cell_type": "markdown",
      "metadata": {
        "id": "JhDiBYgizr8o"
      },
      "source": [
        "## Dictionaries\n",
        "\n",
        "When you open an actual dictionary, you search for a word, and the book tells you its associated meaning. Python dictionaries work the same way. You have a set of **keys**, and corresponding **values**.\n",
        "\n",
        "Check out the [docs](https://docs.python.org/3/tutorial/datastructures.html#dictionaries) for more information."
      ]
    },
    {
      "cell_type": "code",
      "metadata": {
        "id": "vHFKvnrIzr8o"
      },
      "source": [
        "user_color_preferences = {'Alice': 'green', 'Bob': 'yellow', 'Clara': 'red'} # creating a dictionary\n",
        "print(user_color_preferences['Alice']) # accessing the value associated with 'Alice'\n",
        "print('Bob' in user_color_preferences) # check whether 'Bob' is in the dictionary\n",
        "print('Dan' in user_color_preferences) # check whether 'Dan' is in the dictionary"
      ],
      "execution_count": null,
      "outputs": []
    },
    {
      "cell_type": "markdown",
      "metadata": {
        "id": "la9i85K7zr8o"
      },
      "source": [
        "## Exercise 11.1\n",
        "\n",
        "Navigate the following data structure to print the value \"blue\". (Of course, `print(\"blue\")` is not the correct answer...)"
      ]
    },
    {
      "cell_type": "code",
      "metadata": {
        "id": "jB7Hn52jzr8o"
      },
      "source": [
        "# Solution to Exercise 11.1\n",
        "navigate_me = [\"abc\", [(False, 3.14, {\"foo\": 42, \"bar\": [\"Alice\", \"Bob\", {\"Clara\": \"blue\"}]}, True), 24, ([\"d\", \"e\", \"f\"], )]]\n"
      ],
      "execution_count": null,
      "outputs": []
    },
    {
      "cell_type": "code",
      "metadata": {
        "collapsed": true,
        "id": "6bZ6KQJQzr8p"
      },
      "source": [
        ""
      ],
      "execution_count": null,
      "outputs": []
    }
  ]
}