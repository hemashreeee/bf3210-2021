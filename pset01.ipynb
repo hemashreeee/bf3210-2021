{
  "nbformat": 4,
  "nbformat_minor": 0,
  "metadata": {
    "kernelspec": {
      "display_name": "Python 3",
      "language": "python",
      "name": "python3"
    },
    "language_info": {
      "codemirror_mode": {
        "name": "ipython",
        "version": 3
      },
      "file_extension": ".py",
      "mimetype": "text/x-python",
      "name": "python",
      "nbconvert_exporter": "python",
      "pygments_lexer": "ipython3",
      "version": "3.6.2"
    },
    "colab": {
      "name": "pset01.ipynb",
      "provenance": [],
      "include_colab_link": true
    }
  },
  "cells": [
    {
      "cell_type": "markdown",
      "metadata": {
        "id": "view-in-github",
        "colab_type": "text"
      },
      "source": [
        "<a href=\"https://colab.research.google.com/github/hemashreeee/bf3210-2021/blob/main/pset01.ipynb\" target=\"_parent\"><img src=\"https://colab.research.google.com/assets/colab-badge.svg\" alt=\"Open In Colab\"/></a>"
      ]
    },
    {
      "cell_type": "markdown",
      "metadata": {
        "id": "CVuLy49401YF"
      },
      "source": [
        "## Problem 1\n",
        "\n",
        "Write a program that generates the Fibonacci series in as few steps as possible, with the help of no external modules."
      ]
    },
    {
      "cell_type": "code",
      "metadata": {
        "collapsed": true,
        "id": "APE_sXjU01YQ"
      },
      "source": [
        "# Solution to Problem 1\n"
      ],
      "execution_count": null,
      "outputs": []
    },
    {
      "cell_type": "markdown",
      "metadata": {
        "id": "Y05OtUYL01YR"
      },
      "source": [
        "## Problem 2\n",
        "\n",
        "Implement [De Morgan's Laws](https://en.wikipedia.org/wiki/De_Morgan%27s_laws) in Python code, and verify that they hold true."
      ]
    },
    {
      "cell_type": "code",
      "metadata": {
        "collapsed": true,
        "id": "FiUtK0C801YS"
      },
      "source": [
        "# Solution to Problem 2\n"
      ],
      "execution_count": null,
      "outputs": []
    },
    {
      "cell_type": "markdown",
      "metadata": {
        "id": "YvJUCcR-01YS"
      },
      "source": [
        "## Problem 3\n",
        "\n",
        "Implement a simple chatbot program that asks the user for their name, age, and nationality, and then introduces (or `print`s the given information of) that user."
      ]
    },
    {
      "cell_type": "code",
      "metadata": {
        "collapsed": true,
        "id": "6StciRCo01YS"
      },
      "source": [
        "# Solution to Problem 3\n"
      ],
      "execution_count": null,
      "outputs": []
    },
    {
      "cell_type": "markdown",
      "metadata": {
        "id": "rTdpFRVd01YT"
      },
      "source": [
        "## Problem 4\n",
        "\n",
        "Write a program that sings the song [\"99 Bottles of Beer\"](http://www.99-bottles-of-beer.net/lyrics.html), in as few lines of code as possible. To keep it short, we will sing \"10 Bottles of Beer\" instead."
      ]
    },
    {
      "cell_type": "code",
      "metadata": {
        "collapsed": true,
        "id": "X1MAvJb301YU"
      },
      "source": [
        "# Solution to Problem 4\n"
      ],
      "execution_count": null,
      "outputs": []
    },
    {
      "cell_type": "markdown",
      "metadata": {
        "id": "AaRwzZ3701YU"
      },
      "source": [
        "## Problem 5\n",
        "\n",
        "Write a roller-coaster ride admission program that asks the user for their age. It should deny entry if the user is under 10, allow entry accompanied by an adult if the user is between 10 and 15, and allow full entry otherwise."
      ]
    },
    {
      "cell_type": "code",
      "metadata": {
        "collapsed": true,
        "id": "8549ntxg01YU"
      },
      "source": [
        "# Solution to Problem 5\n"
      ],
      "execution_count": null,
      "outputs": []
    },
    {
      "cell_type": "markdown",
      "metadata": {
        "id": "8Y5avLWH01YV"
      },
      "source": [
        "## Problem 6\n",
        "\n",
        "Write a Rock, Paper, Scissors program. It should:\n",
        "1. Ask for input from two users.\n",
        "2. Determine and announce a winner/tie from the two hands.\n",
        "3. Ask if they would like to play another round.\n",
        "4. Keep playing the game as long as they wish to play. Exit otherwise.\n",
        "5. Keep track of both players' scores, and announce them once the game has concluded."
      ]
    },
    {
      "cell_type": "code",
      "metadata": {
        "collapsed": true,
        "id": "5URkK7Ov01YV"
      },
      "source": [
        "# Solution to Problem 6\n"
      ],
      "execution_count": null,
      "outputs": []
    },
    {
      "cell_type": "markdown",
      "metadata": {
        "id": "1RVNnXGE01YV"
      },
      "source": [
        "### Challenge 6.1\n",
        "\n",
        "Write a Rock, Paper, Scissors, Lizard, Spock program. See the rules [here](http://www.samkass.com/theories/RPSSL.html)."
      ]
    },
    {
      "cell_type": "code",
      "metadata": {
        "collapsed": true,
        "id": "9-H-i-sm01YW"
      },
      "source": [
        "# Solution to Challenge 6.1\n"
      ],
      "execution_count": null,
      "outputs": []
    },
    {
      "cell_type": "markdown",
      "metadata": {
        "id": "AazkN0jJ01YW"
      },
      "source": [
        "### Challenge 6.2\n",
        "\n",
        "Write a RPS game that has 101 different outcomes. You are allowed to use numbers, rather than words like \"scissors\", for this exercise. Example [here](http://www.umop.com/rps101/rps101chart.html). How can you implement this without manually listing every possibility?\n",
        "(Hint 1: Is there some simple math you can do so that the program works for any RPS game with `N` different outcomes?)\n",
        "(Hint 2: Can you then rewrite the previous two exercises with this new formula?) "
      ]
    },
    {
      "cell_type": "code",
      "metadata": {
        "collapsed": true,
        "id": "3o-74ZUN01YW"
      },
      "source": [
        "# Solution to Challenge 6.2\n"
      ],
      "execution_count": null,
      "outputs": []
    }
  ]
}